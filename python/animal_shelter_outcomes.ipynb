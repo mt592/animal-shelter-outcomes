{
 "cells": [
  {
   "cell_type": "markdown",
   "metadata": {},
   "source": [
    "# Predicting Animal Shelter Outcomes\n",
    "#### Comparing Gradient Boosting, AdaBoost, and Random Forest"
   ]
  },
  {
   "cell_type": "markdown",
   "metadata": {},
   "source": [
    "### This Notebook Contains:\n",
    "* Introduction\n",
    "* Step 1 - Downloading Data\n",
    "* Step 2 - Data Visualization\n",
    "* Step 3 - Data Cleaning\n",
    "* Step 4 - Feature Generation\n",
    "* Step 5 - Test/Train\n",
    "* Step 6 - Model Selection\n",
    "    * Random Forest\n",
    "    * AdaBoost\n",
    "    * Gradient Boosting"
   ]
  },
  {
   "cell_type": "markdown",
   "metadata": {},
   "source": [
    "### About\n",
    "\n",
    "I've been a volunteer at the [Austin Animal Center](http://www.austintexas.gov/department/aac), one of the largest No Kill shelters in the US (they house over 18,000 animals every year) and was thrilled to see they provided some of their data to be used in a [Kaggle](https://www.kaggle.com/c/shelter-animal-outcomes) competition!\n",
    "\n",
    "AAC is interested in predicting the outcome of animals that pass through their shelter... Will they get adopted? Will they be returned to their owner? \n",
    "\n",
    "This dataset includes information about cats and dogs (breed, sex, color, age, etc.) from October 2013 - March 2016. Each animal has a unique ID and an associated \"outcome\": Adoption, Died, Euthanasia, Return to owner, and Transfer. "
   ]
  },
  {
   "cell_type": "markdown",
   "metadata": {},
   "source": [
    "### Step 1- Data Download"
   ]
  },
  {
   "cell_type": "markdown",
   "metadata": {},
   "source": [
    "Import important packages"
   ]
  },
  {
   "cell_type": "code",
   "execution_count": 1,
   "metadata": {
    "collapsed": true
   },
   "outputs": [],
   "source": [
    "import pandas as pd\n",
    "import numpy as np\n",
    "import seaborn as sns\n",
    "import matplotlib \n",
    "import matplotlib.pyplot as plt\n",
    "import sklearn\n",
    "import warnings\n",
    "warnings.filterwarnings(\"ignore\")\n",
    "%matplotlib inline"
   ]
  },
  {
   "cell_type": "markdown",
   "metadata": {},
   "source": [
    "Download and inspect the data"
   ]
  },
  {
   "cell_type": "code",
   "execution_count": 2,
   "metadata": {},
   "outputs": [
    {
     "name": "stdout",
     "output_type": "stream",
     "text": [
      "       AnimalID   Name             DateTime OutcomeType OutcomeSubtype  \\\n",
      "count     26729  19038                26729       26729          13117   \n",
      "unique    26729   6374                22918           5             16   \n",
      "top     A701616    Max  2015-08-11 00:00:00    Adoption        Partner   \n",
      "freq          1    136                   19       10769           7816   \n",
      "\n",
      "       AnimalType SexuponOutcome AgeuponOutcome                   Breed  \\\n",
      "count       26729          26728          26711                   26729   \n",
      "unique          2              5             44                    1380   \n",
      "top           Dog  Neutered Male         1 year  Domestic Shorthair Mix   \n",
      "freq        15595           9779           3969                    8810   \n",
      "\n",
      "              Color  \n",
      "count         26729  \n",
      "unique          366  \n",
      "top     Black/White  \n",
      "freq           2824  \n",
      "<class 'pandas.core.frame.DataFrame'>\n",
      "RangeIndex: 26729 entries, 0 to 26728\n",
      "Data columns (total 10 columns):\n",
      "AnimalID          26729 non-null object\n",
      "Name              19038 non-null object\n",
      "DateTime          26729 non-null object\n",
      "OutcomeType       26729 non-null object\n",
      "OutcomeSubtype    13117 non-null object\n",
      "AnimalType        26729 non-null object\n",
      "SexuponOutcome    26728 non-null object\n",
      "AgeuponOutcome    26711 non-null object\n",
      "Breed             26729 non-null object\n",
      "Color             26729 non-null object\n",
      "dtypes: object(10)\n",
      "memory usage: 2.0+ MB\n"
     ]
    }
   ],
   "source": [
    "path='~/train.csv'\n",
    "download=pd.DataFrame(pd.read_csv(path))\n",
    "print(download.describe())\n",
    "download.info()"
   ]
  },
  {
   "cell_type": "code",
   "execution_count": 3,
   "metadata": {},
   "outputs": [
    {
     "data": {
      "text/html": [
       "<div>\n",
       "<style>\n",
       "    .dataframe thead tr:only-child th {\n",
       "        text-align: right;\n",
       "    }\n",
       "\n",
       "    .dataframe thead th {\n",
       "        text-align: left;\n",
       "    }\n",
       "\n",
       "    .dataframe tbody tr th {\n",
       "        vertical-align: top;\n",
       "    }\n",
       "</style>\n",
       "<table border=\"1\" class=\"dataframe\">\n",
       "  <thead>\n",
       "    <tr style=\"text-align: right;\">\n",
       "      <th></th>\n",
       "      <th>AnimalID</th>\n",
       "      <th>Name</th>\n",
       "      <th>DateTime</th>\n",
       "      <th>OutcomeType</th>\n",
       "      <th>OutcomeSubtype</th>\n",
       "      <th>AnimalType</th>\n",
       "      <th>SexuponOutcome</th>\n",
       "      <th>AgeuponOutcome</th>\n",
       "      <th>Breed</th>\n",
       "      <th>Color</th>\n",
       "    </tr>\n",
       "  </thead>\n",
       "  <tbody>\n",
       "    <tr>\n",
       "      <th>0</th>\n",
       "      <td>A671945</td>\n",
       "      <td>Hambone</td>\n",
       "      <td>2014-02-12 18:22:00</td>\n",
       "      <td>Return_to_owner</td>\n",
       "      <td>NaN</td>\n",
       "      <td>Dog</td>\n",
       "      <td>Neutered Male</td>\n",
       "      <td>1 year</td>\n",
       "      <td>Shetland Sheepdog Mix</td>\n",
       "      <td>Brown/White</td>\n",
       "    </tr>\n",
       "    <tr>\n",
       "      <th>1</th>\n",
       "      <td>A656520</td>\n",
       "      <td>Emily</td>\n",
       "      <td>2013-10-13 12:44:00</td>\n",
       "      <td>Euthanasia</td>\n",
       "      <td>Suffering</td>\n",
       "      <td>Cat</td>\n",
       "      <td>Spayed Female</td>\n",
       "      <td>1 year</td>\n",
       "      <td>Domestic Shorthair Mix</td>\n",
       "      <td>Cream Tabby</td>\n",
       "    </tr>\n",
       "    <tr>\n",
       "      <th>2</th>\n",
       "      <td>A686464</td>\n",
       "      <td>Pearce</td>\n",
       "      <td>2015-01-31 12:28:00</td>\n",
       "      <td>Adoption</td>\n",
       "      <td>Foster</td>\n",
       "      <td>Dog</td>\n",
       "      <td>Neutered Male</td>\n",
       "      <td>2 years</td>\n",
       "      <td>Pit Bull Mix</td>\n",
       "      <td>Blue/White</td>\n",
       "    </tr>\n",
       "    <tr>\n",
       "      <th>3</th>\n",
       "      <td>A683430</td>\n",
       "      <td>NaN</td>\n",
       "      <td>2014-07-11 19:09:00</td>\n",
       "      <td>Transfer</td>\n",
       "      <td>Partner</td>\n",
       "      <td>Cat</td>\n",
       "      <td>Intact Male</td>\n",
       "      <td>3 weeks</td>\n",
       "      <td>Domestic Shorthair Mix</td>\n",
       "      <td>Blue Cream</td>\n",
       "    </tr>\n",
       "    <tr>\n",
       "      <th>4</th>\n",
       "      <td>A667013</td>\n",
       "      <td>NaN</td>\n",
       "      <td>2013-11-15 12:52:00</td>\n",
       "      <td>Transfer</td>\n",
       "      <td>Partner</td>\n",
       "      <td>Dog</td>\n",
       "      <td>Neutered Male</td>\n",
       "      <td>2 years</td>\n",
       "      <td>Lhasa Apso/Miniature Poodle</td>\n",
       "      <td>Tan</td>\n",
       "    </tr>\n",
       "  </tbody>\n",
       "</table>\n",
       "</div>"
      ],
      "text/plain": [
       "  AnimalID     Name             DateTime      OutcomeType OutcomeSubtype  \\\n",
       "0  A671945  Hambone  2014-02-12 18:22:00  Return_to_owner            NaN   \n",
       "1  A656520    Emily  2013-10-13 12:44:00       Euthanasia      Suffering   \n",
       "2  A686464   Pearce  2015-01-31 12:28:00         Adoption         Foster   \n",
       "3  A683430      NaN  2014-07-11 19:09:00         Transfer        Partner   \n",
       "4  A667013      NaN  2013-11-15 12:52:00         Transfer        Partner   \n",
       "\n",
       "  AnimalType SexuponOutcome AgeuponOutcome                        Breed  \\\n",
       "0        Dog  Neutered Male         1 year        Shetland Sheepdog Mix   \n",
       "1        Cat  Spayed Female         1 year       Domestic Shorthair Mix   \n",
       "2        Dog  Neutered Male        2 years                 Pit Bull Mix   \n",
       "3        Cat    Intact Male        3 weeks       Domestic Shorthair Mix   \n",
       "4        Dog  Neutered Male        2 years  Lhasa Apso/Miniature Poodle   \n",
       "\n",
       "         Color  \n",
       "0  Brown/White  \n",
       "1  Cream Tabby  \n",
       "2   Blue/White  \n",
       "3   Blue Cream  \n",
       "4          Tan  "
      ]
     },
     "execution_count": 3,
     "metadata": {},
     "output_type": "execute_result"
    }
   ],
   "source": [
    "download.head()"
   ]
  },
  {
   "cell_type": "markdown",
   "metadata": {},
   "source": [
    "The data looks like it's mostly descriptive. Our variable of interest is __OutcomeType__ but there is also an __OutcomeSubtype__. I won't use __OutcomeSubtype__ in my model, because it seems like we would only know the outcome subtype once we knew the outcome type. \n",
    "\n",
    "The breed and age of the animal will likely be very important, as I suspect \"cuter\" breeds and younger animals will be more likely to get adopted. Older animals may be more likely to die or be put down."
   ]
  },
  {
   "cell_type": "markdown",
   "metadata": {},
   "source": [
    "### Step 2 - Data Exploration"
   ]
  },
  {
   "cell_type": "code",
   "execution_count": 4,
   "metadata": {
    "collapsed": true
   },
   "outputs": [],
   "source": [
    "data=download.copy() #Copy our downloaded dataset to play around with it "
   ]
  },
  {
   "cell_type": "code",
   "execution_count": 5,
   "metadata": {},
   "outputs": [
    {
     "data": {
      "image/png": "[encoded data removed]",
      "text/plain": [
       "<matplotlib.figure.Figure at 0x10f0e1748>"
      ]
     },
     "metadata": {},
     "output_type": "display_data"
    }
   ],
   "source": [
    "fig,ax= plt.subplots(1,3, figsize=(22, 10))\n",
    "sns.countplot(data.AnimalType, palette='Set2', ax=ax[0])\n",
    "sns.countplot(data.OutcomeType, palette='Set2', ax=ax[1])\n",
    "sns.countplot(data.SexuponOutcome, palette='Set2', ax=ax[2])\n",
    "fig.show()"
   ]
  },
  {
   "cell_type": "markdown",
   "metadata": {},
   "source": [
    "Most animals get adopted or transfered! And it looks like the majority are either spayed or neutered. From what I know about most animal shelters, if an animal isn't neutered they can't be adopted until they are, so this may be an important feature as well. "
   ]
  },
  {
   "cell_type": "code",
   "execution_count": 7,
   "metadata": {},
   "outputs": [
    {
     "name": "stdout",
     "output_type": "stream",
     "text": [
      "Outcome Sub Types: [nan 'Suffering' 'Foster' 'Partner' 'Offsite' 'SCRP' 'Aggressive'\n",
      " 'Behavior' 'Rabies Risk' 'Medical' 'In Kennel' 'In Foster' 'Barn'\n",
      " 'Court/Investigation' 'Enroute' 'At Vet' 'In Surgery']\n",
      "Outcome Types: ['Return_to_owner' 'Euthanasia' 'Adoption' 'Transfer' 'Died']\n"
     ]
    }
   ],
   "source": [
    "print('Outcome Sub Types:' ,data.OutcomeSubtype.unique())\n",
    "print('Outcome Types:',data.OutcomeType.unique())"
   ]
  },
  {
   "cell_type": "markdown",
   "metadata": {},
   "source": [
    "### Step 3 - Feature Generation"
   ]
  },
  {
   "cell_type": "markdown",
   "metadata": {},
   "source": [
    "Let's separate the sex of the animal from whether or not they are neutered. Here I will consider spayed to be neutered. "
   ]
  },
  {
   "cell_type": "code",
   "execution_count": 8,
   "metadata": {
    "collapsed": true
   },
   "outputs": [],
   "source": [
    "data[\"Sex\"]=pd.np.where(data.SexuponOutcome.str.contains(\"Male\"), \"Male\",\n",
    "                    pd.np.where(data.SexuponOutcome.str.contains(\"Female\"), \"Female\", \"Unknown\"))\n",
    "\n",
    "data['Neutered']=pd.np.where(data.SexuponOutcome.str.contains(\"Neutered\"), \"Neutered\",\n",
    "                    pd.np.where(data.SexuponOutcome.str.contains(\"Spayed\"), \"Neutered\", \n",
    "                    pd.np.where(data.SexuponOutcome.str.contains(\"Intact\"), \"Intact\", \"Unknown\")))"
   ]
  },
  {
   "cell_type": "code",
   "execution_count": 9,
   "metadata": {},
   "outputs": [
    {
     "data": {
      "image/png": "[encoded data removed]",
      "text/plain": [
       "<matplotlib.figure.Figure at 0x10e4d6358>"
      ]
     },
     "metadata": {},
     "output_type": "display_data"
    }
   ],
   "source": [
    "fig,ax= plt.subplots(1,2, figsize=(22, 10))\n",
    "sns.countplot(data.Sex, palette='Set2', ax=ax[0])\n",
    "sns.countplot(data.Neutered, palette='Set2', ax=ax[1])\n",
    "fig.show()"
   ]
  },
  {
   "cell_type": "markdown",
   "metadata": {},
   "source": [
    "Now let's take a look at breeds. I suspect there are tons of different breeds and many combinations of breeds we could use. We can try to simplify this later, but for now let's separate out the breed into __Mix__ and __Purebred__."
   ]
  },
  {
   "cell_type": "code",
   "execution_count": 10,
   "metadata": {
    "scrolled": true
   },
   "outputs": [
    {
     "data": {
      "text/plain": [
       "(1380,)"
      ]
     },
     "execution_count": 10,
     "metadata": {},
     "output_type": "execute_result"
    }
   ],
   "source": [
    "data.Breed.unique().shape"
   ]
  },
  {
   "cell_type": "code",
   "execution_count": 11,
   "metadata": {},
   "outputs": [
    {
     "data": {
      "text/plain": [
       "<matplotlib.axes._subplots.AxesSubplot at 0x112d25f98>"
      ]
     },
     "execution_count": 11,
     "metadata": {},
     "output_type": "execute_result"
    },
    {
     "data": {
      "image/png": "[encoded data removed]",
      "text/plain": [
       "<matplotlib.figure.Figure at 0x112d25710>"
      ]
     },
     "metadata": {},
     "output_type": "display_data"
    }
   ],
   "source": [
    "#Separate mix and not mix\n",
    "data[\"Mix\"]=pd.np.where(data.Breed.str.contains(\"Mix\"), \"Mix\", \"Purebred\")\n",
    "sns.countplot(data.Mix, palette='Set2')               "
   ]
  },
  {
   "cell_type": "markdown",
   "metadata": {},
   "source": [
    "Looking back at the data, this field may not be very useful considering I see some entries that don't have the word \"Mix\" in them but are formatted as \"Breed1/ Breed2\". Clearly these are also mixes. Let's come back to this later.\n",
    "\n",
    "Now let's take a peek at whether the animal having a __Name__ is important. If it proves to be important, Animal Shelters should try their best to assign a random name to the animals they receive to make them seem more adoptable! (Assuming the relationship between adoption and name is causal.... it could also be that stray dogs are less likely to be adopted)."
   ]
  },
  {
   "cell_type": "code",
   "execution_count": 12,
   "metadata": {},
   "outputs": [
    {
     "data": {
      "text/plain": [
       "<matplotlib.axes._subplots.AxesSubplot at 0x112f21438>"
      ]
     },
     "execution_count": 12,
     "metadata": {},
     "output_type": "execute_result"
    },
    {
     "data": {
      "image/png": "[encoded data removed]",
      "text/plain": [
       "<matplotlib.figure.Figure at 0x10e3a1be0>"
      ]
     },
     "metadata": {},
     "output_type": "display_data"
    }
   ],
   "source": [
    "#Separate out animals who have a name from those that don't\n",
    "data[\"HasName\"]=pd.np.where(data.Name.isnull(), \"NoName\", \"Name\")\n",
    "sns.countplot(data.HasName, palette='Set2')"
   ]
  },
  {
   "cell_type": "markdown",
   "metadata": {},
   "source": [
    "### Step 3 - Tidying"
   ]
  },
  {
   "cell_type": "markdown",
   "metadata": {},
   "source": [
    "The __AgeuponOutcome__ will most likely be a very important factor. Let's change this field to a useful numeric."
   ]
  },
  {
   "cell_type": "code",
   "execution_count": 13,
   "metadata": {
    "collapsed": true
   },
   "outputs": [],
   "source": [
    "data['Age Value'], data['Age Measure']= data['AgeuponOutcome'].str.split(' ', 1).str"
   ]
  },
  {
   "cell_type": "code",
   "execution_count": 14,
   "metadata": {
    "collapsed": true
   },
   "outputs": [],
   "source": [
    "data[\"Age\"]=np.where(data[\"Age Measure\"]==\"weeks\", \n",
    "                     data[\"Age Value\"].astype(float)/52, \n",
    "                     np.where(data[\"Age Measure\"]==\"months\", \n",
    "                            data[\"Age Value\"].astype(float)/12, \n",
    "                            data[\"Age Value\"].astype(float)))        "
   ]
  },
  {
   "cell_type": "code",
   "execution_count": 15,
   "metadata": {
    "collapsed": true
   },
   "outputs": [],
   "source": [
    "data[\"Age\"].fillna(data[\"Age\"].mean(), inplace=True) #Impute in NAs with the mean"
   ]
  },
  {
   "cell_type": "code",
   "execution_count": 16,
   "metadata": {},
   "outputs": [
    {
     "data": {
      "text/plain": [
       "(array([  1.00650000e+04,   5.46200000e+03,   3.85900000e+03,\n",
       "          1.93200000e+03,   1.12100000e+03,   1.01600000e+03,\n",
       "          7.20000000e+02,   5.31000000e+02,   5.36000000e+02,\n",
       "          2.88000000e+02,   4.46000000e+02,   1.26000000e+02,\n",
       "          2.34000000e+02,   1.43000000e+02,   9.70000000e+01,\n",
       "          8.50000000e+01,   3.60000000e+01,   1.70000000e+01,\n",
       "          1.00000000e+01,   5.00000000e+00]),\n",
       " array([  0.,   1.,   2.,   3.,   4.,   5.,   6.,   7.,   8.,   9.,  10.,\n",
       "         11.,  12.,  13.,  14.,  15.,  16.,  17.,  18.,  19.,  20.]),\n",
       " <a list of 20 Patch objects>)"
      ]
     },
     "execution_count": 16,
     "metadata": {},
     "output_type": "execute_result"
    },
    {
     "data": {
      "image/png": "[encoded data removed]",
      "text/plain": [
       "<matplotlib.figure.Figure at 0x113344978>"
      ]
     },
     "metadata": {},
     "output_type": "display_data"
    }
   ],
   "source": [
    "plt.hist(data.Age.astype(int), bins=20)"
   ]
  },
  {
   "cell_type": "markdown",
   "metadata": {},
   "source": [
    "We have lots of relatively young animals! \n",
    "\n",
    "Let's move on to tidying __DateTime__. We can separate out the Day, Month, and Hour as well as derive the general time of day of the outcome."
   ]
  },
  {
   "cell_type": "code",
   "execution_count": 17,
   "metadata": {
    "collapsed": true
   },
   "outputs": [],
   "source": [
    "Split= pd.DataFrame(data.DateTime.str.split(' ',1).tolist(),columns = ['day','time'])\n",
    "Split['Hour'] = Split['time'].astype(str).str[0:2]\n",
    "Split['Month']=Split['day'].astype(str).str[5:7]\n",
    "Split['Day']=Split['day'].astype(str).str[8:10]\n",
    "\n",
    "v=[]\n",
    "for row in range(len(Split.Hour)):\n",
    "    if int(Split.Hour[row])<6:\n",
    "        v.append(\"Night\")\n",
    "    elif int(Split[\"Hour\"][row])>=6 and int(Split[\"Hour\"][row])<11:\n",
    "        v.append(\"Morning\")\n",
    "    elif int(Split[\"Hour\"][row])>=11 and int(Split[\"Hour\"][row])<17:\n",
    "        v.append(\"Afternoon\")\n",
    "    elif int(Split[\"Hour\"][row])>=17 and int(Split[\"Hour\"][row])<19:\n",
    "        v.append(\"Evening\")\n",
    "    else: \n",
    "        v.append(\"Night\")\n",
    "\n",
    "\n",
    "data[\"DateBucket\"]=v\n",
    "data[\"Hour\"]=Split[\"Hour\"]\n",
    "data[\"Month\"]=Split[\"Month\"]\n",
    "data[\"Day\"]=Split[\"Day\"]"
   ]
  },
  {
   "cell_type": "code",
   "execution_count": 18,
   "metadata": {},
   "outputs": [
    {
     "data": {
      "text/plain": [
       "array([[<matplotlib.axes._subplots.AxesSubplot object at 0x11308cfd0>,\n",
       "        <matplotlib.axes._subplots.AxesSubplot object at 0x114759be0>],\n",
       "       [<matplotlib.axes._subplots.AxesSubplot object at 0x1148d15c0>,\n",
       "        <matplotlib.axes._subplots.AxesSubplot object at 0x1148ece10>],\n",
       "       [<matplotlib.axes._subplots.AxesSubplot object at 0x1148accc0>,\n",
       "        <matplotlib.axes._subplots.AxesSubplot object at 0x1148accf8>]], dtype=object)"
      ]
     },
     "execution_count": 18,
     "metadata": {},
     "output_type": "execute_result"
    },
    {
     "data": {
      "image/png": "[encoded data removed]",
      "text/plain": [
       "<matplotlib.figure.Figure at 0x112da4550>"
      ]
     },
     "metadata": {},
     "output_type": "display_data"
    }
   ],
   "source": [
    "Split['Month'].astype(int).hist(by=data['OutcomeType'], figsize=(10,15))"
   ]
  },
  {
   "cell_type": "code",
   "execution_count": 19,
   "metadata": {},
   "outputs": [
    {
     "data": {
      "text/plain": [
       "array([[<matplotlib.axes._subplots.AxesSubplot object at 0x114bfdf60>,\n",
       "        <matplotlib.axes._subplots.AxesSubplot object at 0x114cda860>],\n",
       "       [<matplotlib.axes._subplots.AxesSubplot object at 0x114ceca90>,\n",
       "        <matplotlib.axes._subplots.AxesSubplot object at 0x114d54ef0>],\n",
       "       [<matplotlib.axes._subplots.AxesSubplot object at 0x114c2b0f0>,\n",
       "        <matplotlib.axes._subplots.AxesSubplot object at 0x114c2bf98>]], dtype=object)"
      ]
     },
     "execution_count": 19,
     "metadata": {},
     "output_type": "execute_result"
    },
    {
     "data": {
      "image/png": "[encoded data removed]",
      "text/plain": [
       "<matplotlib.figure.Figure at 0x1131ed470>"
      ]
     },
     "metadata": {},
     "output_type": "display_data"
    }
   ],
   "source": [
    "Split['Month'].astype(int).hist(by=data['OutcomeType'], figsize=(10,15))"
   ]
  },
  {
   "cell_type": "markdown",
   "metadata": {},
   "source": [
    "Wow! We can see that a lot of activity happens around December/January! A lot of deaths surprisingly happen in the middle of summer though. Could this be that baby animals born in the spring don't make it past a few months of age?"
   ]
  },
  {
   "cell_type": "code",
   "execution_count": 20,
   "metadata": {},
   "outputs": [
    {
     "data": {
      "text/plain": [
       "False"
      ]
     },
     "execution_count": 20,
     "metadata": {},
     "output_type": "execute_result"
    }
   ],
   "source": [
    "Split[\"Hour\"]=Split[\"Hour\"].astype(int)\n",
    "type(Split[\"Hour\"][0])\n",
    "Split.Hour[2]<5"
   ]
  },
  {
   "cell_type": "code",
   "execution_count": 21,
   "metadata": {},
   "outputs": [
    {
     "data": {
      "text/plain": [
       "(array([  3.78000000e+02,   0.00000000e+00,   0.00000000e+00,\n",
       "          0.00000000e+00,   0.00000000e+00,   2.00000000e+00,\n",
       "          1.00000000e+01,   1.10000000e+02,   3.02000000e+02,\n",
       "          1.27800000e+03,   4.05000000e+02,   2.04200000e+03,\n",
       "          2.51300000e+03,   2.46800000e+03,   2.80000000e+03,\n",
       "          2.68200000e+03,   2.69000000e+03,   4.16200000e+03,\n",
       "          3.68400000e+03,   1.08300000e+03,   7.70000000e+01,\n",
       "          1.80000000e+01,   5.00000000e+00,   2.00000000e+01]),\n",
       " array([  0.        ,   0.95833333,   1.91666667,   2.875     ,\n",
       "          3.83333333,   4.79166667,   5.75      ,   6.70833333,\n",
       "          7.66666667,   8.625     ,   9.58333333,  10.54166667,\n",
       "         11.5       ,  12.45833333,  13.41666667,  14.375     ,\n",
       "         15.33333333,  16.29166667,  17.25      ,  18.20833333,\n",
       "         19.16666667,  20.125     ,  21.08333333,  22.04166667,  23.        ]),\n",
       " <a list of 24 Patch objects>)"
      ]
     },
     "execution_count": 21,
     "metadata": {},
     "output_type": "execute_result"
    },
    {
     "data": {
      "image/png": "[encoded data removed]",
      "text/plain": [
       "<matplotlib.figure.Figure at 0x1131f8b00>"
      ]
     },
     "metadata": {},
     "output_type": "display_data"
    }
   ],
   "source": [
    "plt.hist(Split.Hour.astype(int), bins=24)"
   ]
  },
  {
   "cell_type": "code",
   "execution_count": 22,
   "metadata": {},
   "outputs": [
    {
     "data": {
      "text/plain": [
       "array([[<matplotlib.axes._subplots.AxesSubplot object at 0x114ff0a20>,\n",
       "        <matplotlib.axes._subplots.AxesSubplot object at 0x1153d1080>],\n",
       "       [<matplotlib.axes._subplots.AxesSubplot object at 0x1152abba8>,\n",
       "        <matplotlib.axes._subplots.AxesSubplot object at 0x115439a58>],\n",
       "       [<matplotlib.axes._subplots.AxesSubplot object at 0x11548fbe0>,\n",
       "        <matplotlib.axes._subplots.AxesSubplot object at 0x11548fc18>]], dtype=object)"
      ]
     },
     "execution_count": 22,
     "metadata": {},
     "output_type": "execute_result"
    },
    {
     "data": {
      "image/png": "[encoded data removed]",
      "text/plain": [
       "<matplotlib.figure.Figure at 0x114f04518>"
      ]
     },
     "metadata": {},
     "output_type": "display_data"
    }
   ],
   "source": [
    "Split['Hour'].astype(int).hist(by=data['OutcomeType'], figsize=(10,15))"
   ]
  },
  {
   "cell_type": "markdown",
   "metadata": {},
   "source": [
    "We can see that deaths spike in the morning while all other outcomes peak in the afternoon."
   ]
  },
  {
   "cell_type": "code",
   "execution_count": 23,
   "metadata": {},
   "outputs": [
    {
     "data": {
      "text/html": [
       "<div>\n",
       "<style>\n",
       "    .dataframe thead tr:only-child th {\n",
       "        text-align: right;\n",
       "    }\n",
       "\n",
       "    .dataframe thead th {\n",
       "        text-align: left;\n",
       "    }\n",
       "\n",
       "    .dataframe tbody tr th {\n",
       "        vertical-align: top;\n",
       "    }\n",
       "</style>\n",
       "<table border=\"1\" class=\"dataframe\">\n",
       "  <thead>\n",
       "    <tr style=\"text-align: right;\">\n",
       "      <th></th>\n",
       "      <th>day</th>\n",
       "      <th>time</th>\n",
       "      <th>Hour</th>\n",
       "      <th>Month</th>\n",
       "      <th>Day</th>\n",
       "    </tr>\n",
       "  </thead>\n",
       "  <tbody>\n",
       "    <tr>\n",
       "      <th>0</th>\n",
       "      <td>2014-02-12</td>\n",
       "      <td>18:22:00</td>\n",
       "      <td>18</td>\n",
       "      <td>02</td>\n",
       "      <td>12</td>\n",
       "    </tr>\n",
       "    <tr>\n",
       "      <th>1</th>\n",
       "      <td>2013-10-13</td>\n",
       "      <td>12:44:00</td>\n",
       "      <td>12</td>\n",
       "      <td>10</td>\n",
       "      <td>13</td>\n",
       "    </tr>\n",
       "    <tr>\n",
       "      <th>2</th>\n",
       "      <td>2015-01-31</td>\n",
       "      <td>12:28:00</td>\n",
       "      <td>12</td>\n",
       "      <td>01</td>\n",
       "      <td>31</td>\n",
       "    </tr>\n",
       "    <tr>\n",
       "      <th>3</th>\n",
       "      <td>2014-07-11</td>\n",
       "      <td>19:09:00</td>\n",
       "      <td>19</td>\n",
       "      <td>07</td>\n",
       "      <td>11</td>\n",
       "    </tr>\n",
       "    <tr>\n",
       "      <th>4</th>\n",
       "      <td>2013-11-15</td>\n",
       "      <td>12:52:00</td>\n",
       "      <td>12</td>\n",
       "      <td>11</td>\n",
       "      <td>15</td>\n",
       "    </tr>\n",
       "  </tbody>\n",
       "</table>\n",
       "</div>"
      ],
      "text/plain": [
       "          day      time  Hour Month Day\n",
       "0  2014-02-12  18:22:00    18    02  12\n",
       "1  2013-10-13  12:44:00    12    10  13\n",
       "2  2015-01-31  12:28:00    12    01  31\n",
       "3  2014-07-11  19:09:00    19    07  11\n",
       "4  2013-11-15  12:52:00    12    11  15"
      ]
     },
     "execution_count": 23,
     "metadata": {},
     "output_type": "execute_result"
    }
   ],
   "source": [
    "Split.head()"
   ]
  },
  {
   "cell_type": "markdown",
   "metadata": {},
   "source": [
    "Now let's try to clean up the color of the animal along with its breed. Both of these measures have way too many different combinations, so let's split them into three or four separate word buckets. "
   ]
  },
  {
   "cell_type": "code",
   "execution_count": 24,
   "metadata": {
    "collapsed": true
   },
   "outputs": [],
   "source": [
    "cls=pd.DataFrame(data.Color.values, columns=[\"Color\"])\n",
    "\n",
    "cls[\"Color\"]=cls[\"Color\"].str.replace('/', ' ') \n",
    "c = cls.Color.str.split(expand=True).stack()\n",
    "\n",
    "c=c.groupby(level=0).apply(lambda x: ' '.join(x.sort_values().drop_duplicates()))"
   ]
  },
  {
   "cell_type": "code",
   "execution_count": 25,
   "metadata": {
    "collapsed": true
   },
   "outputs": [],
   "source": [
    "firstcols = pd.DataFrame(c.str.split(' ',3).tolist(),columns = ['c1','c2', 'c3', 'c4'])\n",
    "\n",
    "data[\"Color1\"]=firstcols[\"c1\"]\n",
    "data[\"Color2\"]=firstcols[\"c2\"]\n",
    "data[\"Color3\"]=firstcols[\"c3\"]\n",
    "data[\"Color4\"]=firstcols[\"c4\"]"
   ]
  },
  {
   "cell_type": "code",
   "execution_count": 26,
   "metadata": {
    "collapsed": true
   },
   "outputs": [],
   "source": [
    "bds=pd.DataFrame(data.Breed.values, columns=[\"Breed\"])# index=data.AnimalID)\n",
    "\n",
    "bds[\"Breed\"]=bds[\"Breed\"].str.replace('/', ' ') \n",
    "bds[\"Breed\"]=bds[\"Breed\"].str.replace('Mix', '')\n",
    "s = bds.Breed.str.split(expand=True).stack()\n",
    "\n",
    "s=s.groupby(level=0).apply(lambda x: ' '.join(x.sort_values().drop_duplicates()))"
   ]
  },
  {
   "cell_type": "code",
   "execution_count": 27,
   "metadata": {
    "collapsed": true
   },
   "outputs": [],
   "source": [
    "firstcols = pd.DataFrame(s.str.split(' ',3).tolist(),columns = ['b1','b2', 'b3', 'b4'])\n",
    "\n",
    "data[\"Breed1\"]=firstcols[\"b1\"]\n",
    "data[\"Breed2\"]=firstcols[\"b2\"]\n",
    "data[\"Breed3\"]=firstcols[\"b3\"]\n",
    "data[\"Breed4\"]=firstcols[\"b4\"]"
   ]
  },
  {
   "cell_type": "markdown",
   "metadata": {},
   "source": [
    "We've done a lot of work, now let's use only the columns we think will be useful. We are going to need to one-hot encode these values so sklearn can read them in properly. I will used Pandas' __get_dummies__ to one-hot encode instead of the package in sklearn, because my columns are all strings."
   ]
  },
  {
   "cell_type": "code",
   "execution_count": 28,
   "metadata": {
    "collapsed": true
   },
   "outputs": [],
   "source": [
    "cols=[\"AnimalType\", \"Sex\", \"Neutered\", \"HasName\", \"Mix\", \"Color1\",\"Color2\", \"Color3\", \"Color4\", \"Breed1\", \"Breed2\", \"Breed3\", \"Breed4\", \"Hour\", \"Month\", \"Day\", \"DateBucket\"]\n",
    "\n",
    "def Binarize(columns, dataset):\n",
    "    x=dataset[columns].copy()\n",
    "    for names in cols:\n",
    "        x=pd.concat([x, pd.get_dummies(dataset[names])], axis=1)\n",
    "    x=x.drop(cols,1)\n",
    "    return x\n",
    "\n",
    "xy=Binarize(cols,data)"
   ]
  },
  {
   "cell_type": "markdown",
   "metadata": {},
   "source": [
    "Finally let's add Age back into our now one-hot encoded frame"
   ]
  },
  {
   "cell_type": "code",
   "execution_count": 29,
   "metadata": {
    "collapsed": true,
    "scrolled": true
   },
   "outputs": [],
   "source": [
    "xy[\"Age\"]=data[\"Age\"]"
   ]
  },
  {
   "cell_type": "markdown",
   "metadata": {},
   "source": [
    "Finally, let's binarize our __OutcomeTypes__."
   ]
  },
  {
   "cell_type": "code",
   "execution_count": 30,
   "metadata": {
    "collapsed": true
   },
   "outputs": [],
   "source": [
    "y=data[\"OutcomeType\"]\n",
    "y_enc, y_cats=y.factorize()\n",
    "y=y_enc.reshape(-1,1)"
   ]
  },
  {
   "cell_type": "code",
   "execution_count": 31,
   "metadata": {
    "collapsed": true
   },
   "outputs": [],
   "source": [
    "#Let's add y to our dataframe so we can split it into train and test later\n",
    "xy[\"Y\"]=y_enc"
   ]
  },
  {
   "cell_type": "markdown",
   "metadata": {},
   "source": [
    "### Step 5 - Split train vs test data"
   ]
  },
  {
   "cell_type": "code",
   "execution_count": 32,
   "metadata": {
    "collapsed": true
   },
   "outputs": [],
   "source": [
    "from sklearn.model_selection import train_test_split\n",
    "\n",
    "train_set, test_set= train_test_split(xy, test_size=0.2, random_state=42)\n",
    "\n",
    "x_train=train_set.drop(\"Y\", axis=1)\n",
    "y_train=train_set[\"Y\"].copy().reshape(-1,1)\n",
    "x_test=test_set.drop(\"Y\", axis=1)\n",
    "y_test=test_set[\"Y\"].copy().reshape(-1,1)"
   ]
  },
  {
   "cell_type": "markdown",
   "metadata": {},
   "source": [
    "### Step 6 - Model Selection\n",
    "#### Random Forest Classifier\n",
    "Random forests are great ensemble learning methods that can do well in our classification goal. It will compile multiple decision trees trained on different sub-samples of our data and average their responses."
   ]
  },
  {
   "cell_type": "markdown",
   "metadata": {},
   "source": [
    "Let's perform a gridsearch to find optimal hyperparameters for our forest. We will tune maximum number features to use in determining the best tree splits, and the maximum depth of the trees. "
   ]
  },
  {
   "cell_type": "code",
   "execution_count": 39,
   "metadata": {},
   "outputs": [
    {
     "data": {
      "text/plain": [
       "GridSearchCV(cv=None, error_score='raise',\n",
       "       estimator=RandomForestClassifier(bootstrap=True, class_weight=None, criterion='gini',\n",
       "            max_depth=None, max_features='auto', max_leaf_nodes=None,\n",
       "            min_impurity_decrease=0.0, min_impurity_split=None,\n",
       "            min_samples_leaf=1, min_samples_split=2,\n",
       "            min_weight_fraction_leaf=0.0, n_estimators=10, n_jobs=1,\n",
       "            oob_score=True, random_state=42, verbose=0, warm_start=False),\n",
       "       fit_params=None, iid=True, n_jobs=1,\n",
       "       param_grid=[{'max_features': [500, 400], 'max_depth': [7, 9, 10]}],\n",
       "       pre_dispatch='2*n_jobs', refit=True, return_train_score=True,\n",
       "       scoring='log_loss', verbose=0)"
      ]
     },
     "execution_count": 39,
     "metadata": {},
     "output_type": "execute_result"
    }
   ],
   "source": [
    "from sklearn.ensemble import RandomForestClassifier\n",
    "from sklearn.model_selection import GridSearchCV\n",
    "param_grid=[\n",
    "    {'max_features':[500, 400], 'max_depth':[7,9,10]}\n",
    "]\n",
    "\n",
    "forest_clf2=RandomForestClassifier(oob_score=True, random_state=42)\n",
    "grid_search=GridSearchCV(forest_clf2, param_grid, #cv=3,\n",
    "                        scoring='log_loss')\n",
    "grid_search.fit(x_train, y_train.ravel())"
   ]
  },
  {
   "cell_type": "code",
   "execution_count": 40,
   "metadata": {},
   "outputs": [
    {
     "data": {
      "text/plain": [
       "{'max_depth': 10, 'max_features': 400}"
      ]
     },
     "execution_count": 40,
     "metadata": {},
     "output_type": "execute_result"
    }
   ],
   "source": [
    "grid_search.best_params_"
   ]
  },
  {
   "cell_type": "code",
   "execution_count": 41,
   "metadata": {},
   "outputs": [
    {
     "name": "stdout",
     "output_type": "stream",
     "text": [
      "Train Accuracy=  0.702473927887\n"
     ]
    }
   ],
   "source": [
    "forest_clf=RandomForestClassifier(n_estimators=100, max_features=400, max_depth=10, oob_score=True, n_jobs=-1,random_state=42)\n",
    "forest_clf.fit(x_train,y_train)\n",
    "forest_clf_pred=forest_clf.predict(x_train)\n",
    "\n",
    "from sklearn import metrics\n",
    "score=metrics.accuracy_score(y_train, forest_clf_pred)\n",
    "print(\"Train Accuracy= \", score)"
   ]
  },
  {
   "cell_type": "code",
   "execution_count": 42,
   "metadata": {},
   "outputs": [
    {
     "name": "stdout",
     "output_type": "stream",
     "text": [
      "Test Accuracy=  0.665357276468\n"
     ]
    }
   ],
   "source": [
    "test_forest_clf_pred=forest_clf.predict(x_test)\n",
    "score=metrics.accuracy_score(y_test, test_forest_clf_pred)\n",
    "print(\"Test Accuracy= \",score)"
   ]
  },
  {
   "cell_type": "code",
   "execution_count": 49,
   "metadata": {},
   "outputs": [
    {
     "name": "stdout",
     "output_type": "stream",
     "text": [
      "[[  4.76662082e-01   5.37546662e-02   2.96414991e-01   1.70246181e-01\n",
      "    2.92208011e-03]\n",
      " [  1.26491273e-02   8.85438159e-04   9.54003146e-01   3.16522347e-02\n",
      "    8.10054334e-04]\n",
      " [  6.28243590e-03   7.59550496e-02   0.00000000e+00   9.07537203e-01\n",
      "    1.02253111e-02]\n",
      " ..., \n",
      " [  9.66392014e-03   1.87127183e-03   8.61918391e-01   1.26316546e-01\n",
      "    2.29871496e-04]\n",
      " [  3.34714952e-03   5.66714303e-02   2.04830878e-03   9.19507149e-01\n",
      "    1.84259623e-02]\n",
      " [  4.61528009e-01   3.00172958e-02   3.98495478e-01   1.05278216e-01\n",
      "    4.68100087e-03]]\n",
      "[  2.53339517e-02   2.06459818e-02   3.66186943e-03   3.03168675e-03\n",
      "   4.23118338e-02   2.53453068e-01   4.29069374e-02   4.89918213e-02\n",
      "   6.88447919e-02   1.75541987e-03   0.00000000e+00   8.09916380e-05\n",
      "   2.62235183e-03   2.76631056e-03   6.09972416e-04   2.10296358e-03\n",
      "   4.33458812e-04   3.62532772e-04   6.03973409e-04   7.38500592e-04\n",
      "   3.25768920e-04   2.81896747e-04   7.77366947e-05   1.27466989e-03\n",
      "   7.54519276e-05   3.59991431e-05   2.51110947e-04   6.30730056e-05\n",
      "   8.25851673e-04   0.00000000e+00   4.90046111e-04   6.70308773e-04\n",
      "   2.79936807e-04   1.09564396e-04   1.02005786e-03   4.24521568e-04\n",
      "   3.39978514e-04   3.87932643e-04   7.16623583e-04   2.53138834e-04\n",
      "   2.70527552e-05   3.86665679e-04   1.10792369e-03   2.79896699e-06\n",
      "   9.27186060e-06   2.51895649e-05   1.29736615e-04   7.52289889e-05\n",
      "   0.00000000e+00   1.43902792e-04   0.00000000e+00   5.06645126e-06\n",
      "   1.56718533e-04   9.79421566e-05   3.15598734e-04   2.03037030e-04\n",
      "   0.00000000e+00   2.68605172e-05   2.07498792e-04   5.51704464e-05\n",
      "   9.00768664e-05   1.46268036e-03   7.74687787e-04   4.23675178e-05\n",
      "   5.27412901e-05   0.00000000e+00   1.01665370e-04   8.06489195e-05\n",
      "   2.88634320e-03   3.74295221e-05   1.52255227e-04   0.00000000e+00\n",
      "   5.05234391e-06   0.00000000e+00   6.28301116e-05   7.08804422e-06\n",
      "   4.52985267e-05   2.54016878e-04   0.00000000e+00   0.00000000e+00\n",
      "   2.52192491e-04   1.18550856e-04   4.61872240e-05   0.00000000e+00\n",
      "   0.00000000e+00   9.48317199e-06   0.00000000e+00   2.57338385e-03\n",
      "   2.27992778e-05   1.72151616e-05   4.66058579e-06   1.43080160e-04\n",
      "   0.00000000e+00   8.19143603e-06   0.00000000e+00   1.59611438e-05\n",
      "   4.57367241e-06   0.00000000e+00   9.09567399e-04   1.32496014e-04\n",
      "   1.29825532e-05   2.86481943e-04   1.34585063e-05   4.15516953e-04\n",
      "   0.00000000e+00   2.74188751e-05   1.41006374e-04   2.75669861e-05\n",
      "   2.40461211e-04   3.33766547e-05   9.45494766e-05   0.00000000e+00\n",
      "   1.37387710e-04   2.71292356e-05   3.54095147e-05   0.00000000e+00\n",
      "   1.38680320e-05   1.65413269e-04   5.11419173e-05   2.21785120e-04\n",
      "   0.00000000e+00   1.87093698e-05   0.00000000e+00   6.96158849e-06\n",
      "   4.30856779e-05   1.55742174e-04   0.00000000e+00   4.27884493e-04\n",
      "   4.23750935e-04   3.66162202e-05   0.00000000e+00   0.00000000e+00\n",
      "   0.00000000e+00   0.00000000e+00   2.10467709e-05   3.32106145e-03\n",
      "   6.46896656e-05   1.05678945e-05   0.00000000e+00   2.77540820e-04\n",
      "   3.18020883e-05   0.00000000e+00   0.00000000e+00   4.01975648e-05\n",
      "   9.75667505e-05   0.00000000e+00   1.22210336e-04   4.19134712e-05\n",
      "   1.82840613e-03   0.00000000e+00   7.48735117e-05   1.66239601e-04\n",
      "   1.69011246e-05   1.14890917e-05   1.99612883e-04   4.07581791e-05\n",
      "   7.15087476e-05   0.00000000e+00   3.62775499e-05   0.00000000e+00\n",
      "   0.00000000e+00   2.57431598e-06   5.68292580e-04   1.00561667e-04\n",
      "   5.90346602e-05   1.07591916e-04   2.87262643e-04   1.02126056e-04\n",
      "   7.76525362e-03   9.19641319e-06   3.59749369e-05   0.00000000e+00\n",
      "   8.17618686e-05   7.43798115e-06   0.00000000e+00   0.00000000e+00\n",
      "   0.00000000e+00   0.00000000e+00   2.24433639e-05   6.52284650e-04\n",
      "   3.50972006e-05   0.00000000e+00   4.23926976e-05   1.37075334e-04\n",
      "   8.32433755e-05   0.00000000e+00   0.00000000e+00   8.93321016e-05\n",
      "   2.20406388e-05   2.52226052e-06   1.86167652e-05   1.42202217e-04\n",
      "   7.55341839e-05   0.00000000e+00   2.71654706e-04   2.31253451e-05\n",
      "   0.00000000e+00   0.00000000e+00   2.33563229e-04   0.00000000e+00\n",
      "   0.00000000e+00   2.13667206e-05   0.00000000e+00   4.23334687e-04\n",
      "   0.00000000e+00   1.67934679e-05   0.00000000e+00   8.48403122e-06\n",
      "   7.33400155e-05   3.67705498e-05   3.84126292e-05   3.84467960e-04\n",
      "   7.70879367e-04   0.00000000e+00   8.80451100e-06   8.11879296e-06\n",
      "   0.00000000e+00   0.00000000e+00   2.94905422e-06   1.05451164e-05\n",
      "   3.63966982e-05   0.00000000e+00   8.45562752e-05   0.00000000e+00\n",
      "   6.46019180e-05   0.00000000e+00   0.00000000e+00   2.32492984e-04\n",
      "   2.70425790e-04   2.34261303e-04   2.00929858e-04   1.82094869e-05\n",
      "   1.85355044e-04   1.01320625e-05   5.79449922e-04   0.00000000e+00\n",
      "   0.00000000e+00   0.00000000e+00   0.00000000e+00   0.00000000e+00\n",
      "   0.00000000e+00   2.65858826e-05   9.25879117e-04   5.48086653e-04\n",
      "   0.00000000e+00   3.43882919e-05   1.00288200e-04   0.00000000e+00\n",
      "   1.14180288e-05   1.12307629e-04   0.00000000e+00   2.82360294e-04\n",
      "   4.45428003e-05   0.00000000e+00   0.00000000e+00   0.00000000e+00\n",
      "   3.72258527e-05   2.72634369e-05   0.00000000e+00   1.17171407e-05\n",
      "   0.00000000e+00   6.99629835e-06   3.95073792e-06   0.00000000e+00\n",
      "   0.00000000e+00   0.00000000e+00   0.00000000e+00   7.73782582e-06\n",
      "   5.47398173e-06   0.00000000e+00   6.21277867e-06   0.00000000e+00\n",
      "   1.46748680e-05   0.00000000e+00   3.82448228e-04   2.00302313e-04\n",
      "   0.00000000e+00   0.00000000e+00   3.07807240e-06   2.49490795e-06\n",
      "   0.00000000e+00   6.50225793e-06   3.21678013e-04   0.00000000e+00\n",
      "   9.60885247e-06   8.14220098e-05   1.96960543e-05   0.00000000e+00\n",
      "   5.19337349e-06   0.00000000e+00   3.58335560e-05   1.63156228e-04\n",
      "   0.00000000e+00   4.61963750e-05   0.00000000e+00   0.00000000e+00\n",
      "   1.04144559e-04   2.33248928e-04   1.21846586e-05   0.00000000e+00\n",
      "   7.42930152e-06   0.00000000e+00   9.82493386e-05   2.29196826e-05\n",
      "   0.00000000e+00   0.00000000e+00   0.00000000e+00   9.21785102e-05\n",
      "   4.87409862e-05   0.00000000e+00   5.48771830e-05   0.00000000e+00\n",
      "   4.07578244e-05   0.00000000e+00   0.00000000e+00   2.82203881e-05\n",
      "   2.48666584e-05   6.30365260e-06   5.08483281e-05   3.81974673e-05\n",
      "   0.00000000e+00   0.00000000e+00   5.16699896e-04   2.94278830e-06\n",
      "   0.00000000e+00   0.00000000e+00   4.95228364e-06   0.00000000e+00\n",
      "   1.53038905e-04   6.37276676e-05   0.00000000e+00   1.85471466e-05\n",
      "   0.00000000e+00   0.00000000e+00   0.00000000e+00   2.08336501e-05\n",
      "   0.00000000e+00   3.83797266e-04   3.02438659e-04   1.50587120e-05\n",
      "   3.72979831e-04   1.09170624e-03   6.85458645e-05   5.28969037e-06\n",
      "   3.87173902e-05   0.00000000e+00   1.57853369e-05   0.00000000e+00\n",
      "   0.00000000e+00   0.00000000e+00   5.04707343e-05   0.00000000e+00\n",
      "   0.00000000e+00   3.43782015e-05   2.56088128e-06   0.00000000e+00\n",
      "   0.00000000e+00   0.00000000e+00   2.71341105e-05   3.19578526e-05\n",
      "   0.00000000e+00   0.00000000e+00   0.00000000e+00   0.00000000e+00\n",
      "   4.67277204e-05   0.00000000e+00   5.00316593e-04   5.58201237e-05\n",
      "   2.71630450e-03   1.54393131e-04   0.00000000e+00   1.22019018e-04\n",
      "   0.00000000e+00   2.23095626e-05   4.02810102e-04   0.00000000e+00\n",
      "   0.00000000e+00   7.23436012e-05   5.15862555e-05   6.64073775e-06\n",
      "   8.46132819e-05   9.43417470e-05   5.33571729e-04   1.14587180e-04\n",
      "   0.00000000e+00   3.33074635e-05   1.28131610e-05   9.90187643e-06\n",
      "   1.04131146e-04   2.29966215e-04   0.00000000e+00   2.47145622e-04\n",
      "   0.00000000e+00   0.00000000e+00   4.98142613e-05   1.10801106e-05\n",
      "   5.76566143e-04   1.79764535e-05   2.05003192e-05   2.10050483e-06\n",
      "   2.68313759e-03   4.09325418e-04   0.00000000e+00   5.72462726e-05\n",
      "   0.00000000e+00   0.00000000e+00   1.64841909e-06   2.04065913e-04\n",
      "   0.00000000e+00   0.00000000e+00   0.00000000e+00   0.00000000e+00\n",
      "   1.49168952e-04   1.11824776e-04   0.00000000e+00   4.11666121e-05\n",
      "   2.71198224e-04   1.47524280e-05   0.00000000e+00   5.03710927e-05\n",
      "   2.31761028e-05   8.66599786e-04   0.00000000e+00   0.00000000e+00\n",
      "   8.52349081e-06   0.00000000e+00   0.00000000e+00   0.00000000e+00\n",
      "   1.39242855e-04   0.00000000e+00   2.99434878e-04   0.00000000e+00\n",
      "   6.79101736e-06   0.00000000e+00   1.06137723e-04   0.00000000e+00\n",
      "   3.18182346e-05   0.00000000e+00   6.12562741e-06   6.67574037e-06\n",
      "   0.00000000e+00   2.77590124e-06   0.00000000e+00   1.18557312e-05\n",
      "   6.35627980e-05   9.20175205e-06   0.00000000e+00   8.55920229e-06\n",
      "   0.00000000e+00   2.82876843e-04   1.57150368e-05   2.15942897e-05\n",
      "   6.80999984e-06   0.00000000e+00   0.00000000e+00   0.00000000e+00\n",
      "   0.00000000e+00   1.09691286e-05   0.00000000e+00   0.00000000e+00\n",
      "   5.39020530e-06   0.00000000e+00   0.00000000e+00   0.00000000e+00\n",
      "   0.00000000e+00   3.47264984e-05   8.54614520e-06   0.00000000e+00\n",
      "   0.00000000e+00   2.84013520e-06   0.00000000e+00   2.40948765e-06\n",
      "   7.48345370e-05   0.00000000e+00   0.00000000e+00   9.02871386e-05\n",
      "   0.00000000e+00   3.29816708e-05   0.00000000e+00   0.00000000e+00\n",
      "   0.00000000e+00   1.14533572e-05   5.75508123e-04   5.28969037e-06\n",
      "   5.65683685e-05   9.32062142e-05   0.00000000e+00   0.00000000e+00\n",
      "   0.00000000e+00   9.07516793e-06   0.00000000e+00   0.00000000e+00\n",
      "   0.00000000e+00   0.00000000e+00   0.00000000e+00   0.00000000e+00\n",
      "   5.62407717e-05   0.00000000e+00   0.00000000e+00   3.16565373e-05\n",
      "   8.56866068e-04   6.67418904e-06   2.15764609e-05   0.00000000e+00\n",
      "   6.12229532e-05   0.00000000e+00   3.58088459e-05   1.04423830e-05\n",
      "   0.00000000e+00   7.50505317e-06   2.54094657e-05   2.94241003e-04\n",
      "   0.00000000e+00   5.31350067e-05   0.00000000e+00   5.64906751e-05\n",
      "   1.76991233e-05   2.05712591e-04   0.00000000e+00   1.81725065e-04\n",
      "   0.00000000e+00   0.00000000e+00   1.00960457e-05   7.50454506e-05\n",
      "   1.04282835e-04   0.00000000e+00   0.00000000e+00   1.26666166e-04\n",
      "   2.48984237e-04   1.37385985e-04   0.00000000e+00   0.00000000e+00\n",
      "   1.12282882e-05   0.00000000e+00   5.22498815e-05   1.90481100e-05\n",
      "   0.00000000e+00   4.09142462e-05   8.99751998e-05   0.00000000e+00\n",
      "   4.48037529e-05   1.06432429e-04   2.62768174e-04   0.00000000e+00\n",
      "   0.00000000e+00   3.18365610e-06   0.00000000e+00   0.00000000e+00\n",
      "   0.00000000e+00   0.00000000e+00   1.32440076e-04   9.98994575e-06\n",
      "   0.00000000e+00   2.83056111e-05   1.30710999e-05   0.00000000e+00\n",
      "   0.00000000e+00   0.00000000e+00   0.00000000e+00   0.00000000e+00\n",
      "   3.63338629e-05   0.00000000e+00   0.00000000e+00   0.00000000e+00\n",
      "   0.00000000e+00   5.08477494e-06   0.00000000e+00   0.00000000e+00\n",
      "   0.00000000e+00   0.00000000e+00   3.63735517e-05   0.00000000e+00\n",
      "   2.57424106e-05   1.78167173e-05   0.00000000e+00   0.00000000e+00\n",
      "   0.00000000e+00   0.00000000e+00   0.00000000e+00   0.00000000e+00\n",
      "   0.00000000e+00   0.00000000e+00   3.41827543e-05   0.00000000e+00\n",
      "   0.00000000e+00   0.00000000e+00   2.41245570e-06   0.00000000e+00\n",
      "   0.00000000e+00   0.00000000e+00   0.00000000e+00   0.00000000e+00\n",
      "   0.00000000e+00   0.00000000e+00   0.00000000e+00   0.00000000e+00\n",
      "   0.00000000e+00   0.00000000e+00   0.00000000e+00   4.52298420e-05\n",
      "   4.51051502e-06   0.00000000e+00   0.00000000e+00   3.97366346e-06\n",
      "   0.00000000e+00   3.09593652e-06   0.00000000e+00   0.00000000e+00\n",
      "   8.81969868e-06   0.00000000e+00   8.97143667e-06   5.91618163e-06\n",
      "   0.00000000e+00   0.00000000e+00   0.00000000e+00   0.00000000e+00\n",
      "   0.00000000e+00   5.27659428e-06   0.00000000e+00   0.00000000e+00\n",
      "   0.00000000e+00   2.32395457e-05   0.00000000e+00   0.00000000e+00\n",
      "   0.00000000e+00   1.56727019e-05   0.00000000e+00   0.00000000e+00\n",
      "   2.33063006e-06   2.19468234e-05   9.28351125e-05   0.00000000e+00\n",
      "   0.00000000e+00   3.27931700e-05   4.37338598e-06   0.00000000e+00\n",
      "   0.00000000e+00   0.00000000e+00   2.42914101e-04   4.92376161e-06\n",
      "   0.00000000e+00   0.00000000e+00   0.00000000e+00   0.00000000e+00\n",
      "   0.00000000e+00   0.00000000e+00   7.03342104e-05   0.00000000e+00\n",
      "   0.00000000e+00   0.00000000e+00   0.00000000e+00   0.00000000e+00\n",
      "   0.00000000e+00   0.00000000e+00   5.37400577e-06   0.00000000e+00\n",
      "   0.00000000e+00   0.00000000e+00   0.00000000e+00   0.00000000e+00\n",
      "   2.39166761e-05   1.58979451e-04   0.00000000e+00   0.00000000e+00\n",
      "   0.00000000e+00   0.00000000e+00   0.00000000e+00   0.00000000e+00\n",
      "   4.81121307e-05   0.00000000e+00   1.37007726e-04   0.00000000e+00\n",
      "   0.00000000e+00   5.93865981e-06   0.00000000e+00   2.09000483e-05\n",
      "   0.00000000e+00   2.84685768e-05   0.00000000e+00   0.00000000e+00\n",
      "   7.37439892e-06   1.37503967e-05   0.00000000e+00   0.00000000e+00\n",
      "   0.00000000e+00   0.00000000e+00   0.00000000e+00   3.30884469e-06\n",
      "   1.43058356e-05   5.08641661e-06   7.86738559e-06   4.78284047e-05\n",
      "   0.00000000e+00   4.61959013e-05   0.00000000e+00   0.00000000e+00\n",
      "   2.63267308e-04   0.00000000e+00   6.21573219e-06   0.00000000e+00\n",
      "   0.00000000e+00   0.00000000e+00   0.00000000e+00   1.39742959e-05\n",
      "   0.00000000e+00   1.71275199e-05   0.00000000e+00   1.49574205e-05\n",
      "   0.00000000e+00   0.00000000e+00   5.38825320e-05   0.00000000e+00\n",
      "   5.48947041e-06   7.14783599e-06   3.11584893e-05   0.00000000e+00\n",
      "   0.00000000e+00   2.89949005e-05   2.38837334e-05   0.00000000e+00\n",
      "   6.55470741e-05   2.32573366e-02   0.00000000e+00   1.98533690e-04\n",
      "   3.27481955e-04   1.48798977e-03   6.89282913e-03   4.02493956e-03\n",
      "   6.98218391e-03   2.24694122e-03   1.92168745e-03   3.60540300e-03\n",
      "   1.13670338e-03   3.04276729e-03   2.61437763e-03   2.05861033e-03\n",
      "   4.85796667e-03   5.73365882e-04   5.65984867e-05   1.49505025e-05\n",
      "   1.42620513e-04   2.46225609e-03   1.21922224e-03   1.71795261e-03\n",
      "   1.82553421e-03   1.98244144e-03   1.78083620e-03   3.00618742e-03\n",
      "   1.90176422e-03   1.72008235e-03   2.97434617e-03   2.39986642e-03\n",
      "   3.16869690e-03   1.59560094e-03   1.04923788e-03   1.57958762e-03\n",
      "   1.36521720e-03   1.11185221e-03   1.38292887e-03   9.50624965e-04\n",
      "   1.90161825e-03   9.52762953e-04   1.33459700e-03   1.58475523e-03\n",
      "   1.12837160e-03   1.34373637e-03   9.59366916e-04   1.61342927e-03\n",
      "   1.30848745e-03   1.33933394e-03   1.16603870e-03   8.42431716e-04\n",
      "   2.20327730e-03   1.09930387e-03   9.91022808e-04   8.94616558e-04\n",
      "   1.68257178e-03   9.07548574e-04   1.30156149e-03   1.28859832e-03\n",
      "   1.36700780e-03   1.25889028e-03   1.46588940e-03   7.18468098e-04\n",
      "   2.30735035e-02   3.35006263e-02   7.66007145e-03   2.68345594e-03\n",
      "   2.09019167e-01]\n"
     ]
    }
   ],
   "source": [
    "print(forest_clf.predict_proba(x_test))\n",
    "print(forest_clf.feature_importances_)\n"
   ]
  },
  {
   "cell_type": "code",
   "execution_count": 50,
   "metadata": {},
   "outputs": [
    {
     "name": "stdout",
     "output_type": "stream",
     "text": [
      "Forest Log-Loss=  0.794343777237\n"
     ]
    }
   ],
   "source": [
    "from sklearn.metrics import log_loss\n",
    "print(\"Forest Log-Loss= \", log_loss(y_test, forest_clf.predict_proba(x_test)))"
   ]
  },
  {
   "cell_type": "code",
   "execution_count": 51,
   "metadata": {},
   "outputs": [
    {
     "data": {
      "image/png": "[encoded data removed]",
      "text/plain": [
       "<matplotlib.figure.Figure at 0x1183755c0>"
      ]
     },
     "metadata": {},
     "output_type": "display_data"
    }
   ],
   "source": [
    "from sklearn.metrics import confusion_matrix\n",
    "y_train_pred=cross_val_predict(forest_clf, x_train, y_train.ravel())\n",
    "conf_mx=confusion_matrix(y_train, y_train_pred)\n",
    "\n",
    "plt.matshow(conf_mx, cmap=plt.cm.gray)\n",
    "plt.show()"
   ]
  },
  {
   "cell_type": "markdown",
   "metadata": {},
   "source": [
    "#### AdaBoost Classifier\n",
    "Trains on adjusted sample distributions. AdaBoost will take multiple weak learners, in this case decision trees, and combine them into a strong learner. Every new tree that AdaBoost uses adapts to the weak learners by attempting to improve upon misclassifications from earlier trees. "
   ]
  },
  {
   "cell_type": "code",
   "execution_count": 52,
   "metadata": {
    "collapsed": true
   },
   "outputs": [],
   "source": [
    "from sklearn.ensemble import AdaBoostClassifier\n",
    "from sklearn.tree import DecisionTreeClassifier\n",
    "ada_clf=AdaBoostClassifier(DecisionTreeClassifier(max_features=500, max_depth=10), n_estimators=100, random_state=42)\n",
    "ada_clf.fit(x_train,y_train.ravel())\n",
    "ada_clf_pred=ada_clf.predict(x_train)"
   ]
  },
  {
   "cell_type": "code",
   "execution_count": 53,
   "metadata": {},
   "outputs": [
    {
     "name": "stdout",
     "output_type": "stream",
     "text": [
      "Ada Train Accuracy=  0.864892671749\n"
     ]
    }
   ],
   "source": [
    "from sklearn import metrics\n",
    "score=metrics.accuracy_score(y_train, ada_clf_pred)\n",
    "print(\"Ada Train Accuracy= \", score)"
   ]
  },
  {
   "cell_type": "code",
   "execution_count": 54,
   "metadata": {},
   "outputs": [
    {
     "name": "stdout",
     "output_type": "stream",
     "text": [
      "Ada Test Accuracy=  0.60531238309\n",
      "Ada Test Log-Loss= 0.925278339136\n"
     ]
    }
   ],
   "source": [
    "ada_clf_preds=ada_clf.predict(x_test)\n",
    "score=metrics.accuracy_score(y_test, ada_clf_preds)\n",
    "print(\"Ada Test Accuracy= \",score)\n",
    "print(\"Ada Test Log-Loss=\" ,log_loss(y_test, ada_clf.predict_proba(x_test)))"
   ]
  },
  {
   "cell_type": "markdown",
   "metadata": {
    "collapsed": true
   },
   "source": [
    "#### Gradient Boosting Classifier\n",
    "Our last ensemble method also takes many weak (tree) learners and fits each new learner to the residual errors of the last."
   ]
  },
  {
   "cell_type": "code",
   "execution_count": 56,
   "metadata": {
    "collapsed": true
   },
   "outputs": [],
   "source": [
    "from sklearn.ensemble import GradientBoostingClassifier\n",
    "gbm_clf=GradientBoostingClassifier(max_features=500, max_depth=10, random_state=42)\n",
    "gbm_clf.fit(x_train,y_train.ravel())\n",
    "gbm_clf_pred=gbm_clf.predict(x_train)"
   ]
  },
  {
   "cell_type": "code",
   "execution_count": 57,
   "metadata": {},
   "outputs": [
    {
     "name": "stdout",
     "output_type": "stream",
     "text": [
      "GBM Train Accuracy=  0.854229995791\n"
     ]
    }
   ],
   "source": [
    "print(\"GBM Train Accuracy= \", metrics.accuracy_score(y_train, gbm_clf_pred))"
   ]
  },
  {
   "cell_type": "code",
   "execution_count": 58,
   "metadata": {},
   "outputs": [
    {
     "name": "stdout",
     "output_type": "stream",
     "text": [
      "GBM Test Accuracy=  0.675645342312\n",
      "GBM Test Log-Loss=  0.791823084333\n"
     ]
    }
   ],
   "source": [
    "gbm_clf_preds=gbm_clf.predict(x_test)\n",
    "score=metrics.accuracy_score(y_test, gbm_clf_preds)\n",
    "print(\"GBM Test Accuracy= \",score)\n",
    "print(\"GBM Test Log-Loss= \",log_loss(y_test, gbm_clf.predict_proba(x_test)))"
   ]
  },
  {
   "cell_type": "code",
   "execution_count": 59,
   "metadata": {},
   "outputs": [
    {
     "data": {
      "image/png": "[encoded data removed]",
      "text/plain": [
       "<matplotlib.figure.Figure at 0x1183759e8>"
      ]
     },
     "metadata": {},
     "output_type": "display_data"
    }
   ],
   "source": [
    "features = x_train.columns.copy() #CHECK THIS\n",
    "importances = gbm_clf.feature_importances_\n",
    "indices = np.argsort(importances)\n",
    "indices=indices[-20:]\n",
    "\n",
    "plt.title('Feature Importances')\n",
    "plt.barh(range(len(indices)), importances[indices], color='b', align='center')\n",
    "plt.yticks(range(len(indices)), features[indices]) ## removed [indices]\n",
    "plt.xlabel('Relative Importance')\n",
    "plt.show()\n"
   ]
  }
 ],
 "metadata": {
  "kernelspec": {
   "display_name": "Python 3",
   "language": "python",
   "name": "python3"
  },
  "language_info": {
   "codemirror_mode": {
    "name": "ipython",
    "version": 3
   },
   "file_extension": ".py",
   "mimetype": "text/x-python",
   "name": "python",
   "nbconvert_exporter": "python",
   "pygments_lexer": "ipython3",
   "version": "3.7.3"
  }
 },
 "nbformat": 4,
 "nbformat_minor": 2
}
